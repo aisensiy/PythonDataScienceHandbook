{
 "cells": [
  {
   "cell_type": "markdown",
   "metadata": {
    "deletable": true,
    "editable": true
   },
   "source": [
    "<!--BOOK_INFORMATION-->\n",
    "<img align=\"left\" style=\"padding-right:10px;\" src=\"figures/PDSH-cover-small.png\">\n",
    "*This notebook contains an excerpt from the [Python Data Science Handbook](http://shop.oreilly.com/product/0636920034919.do) by Jake VanderPlas; the content is available [on GitHub](https://github.com/jakevdp/PythonDataScienceHandbook).*\n",
    "\n",
    "*The text is released under the [CC-BY-NC-ND license](https://creativecommons.org/licenses/by-nc-nd/3.0/us/legalcode), and code is released under the [MIT license](https://opensource.org/licenses/MIT). If you find this content useful, please consider supporting the work by [buying the book](http://shop.oreilly.com/product/0636920034919.do)!*"
   ]
  },
  {
   "cell_type": "markdown",
   "metadata": {
    "deletable": true,
    "editable": true
   },
   "source": [
    "<!--NAVIGATION-->\n",
    "< [Keyboard Shortcuts in the IPython Shell](01.02-Shell-Keyboard-Shortcuts.ipynb) | [Contents](Index.ipynb) | [Input and Output History](01.04-Input-Output-History.ipynb) >"
   ]
  },
  {
   "cell_type": "markdown",
   "metadata": {
    "deletable": true,
    "editable": true
   },
   "source": [
    "# IPython 的魔法命令\n",
    "\n",
    "# IPython Magic Commands\n",
    "\n",
    "之前两个章节介绍了 IPython 中一些快速使用 Python 的便捷操作。这章节我们介绍一些在此基础上 IPython 的一些额外的命令，这些命令被称作 IPython 的*魔法命令*，它们前面都有一个 ``%``。这些命令用于数据分析中经常用到的操作。魔法命令分为两种，一种是*单行魔法命令*，它们以一个 ``%`` 开始并只处理单行输入。另一种是*块魔法命令*，它们以 ``%%`` 开始，处理多行输入。下面我们先介绍几个简单的例子，然后再去了解哪些最常用的情况。\n",
    "\n",
    "The previous two sections showed how IPython lets you use and explore Python efficiently and interactively.\n",
    "Here we'll begin discussing some of the enhancements that IPython adds on top of the normal Python syntax.\n",
    "These are known in IPython as *magic commands*, and are prefixed by the ``%`` character.\n",
    "These magic commands are designed to succinctly solve various common problems in standard data analysis.\n",
    "Magic commands come in two flavors: *line magics*, which are denoted by a single ``%`` prefix and operate on a single line of input, and *cell magics*, which are denoted by a double ``%%`` prefix and operate on multiple lines of input.\n",
    "We'll demonstrate and discuss a few brief examples here, and come back to more focused discussion of several useful magic commands later in the chapter."
   ]
  },
  {
   "cell_type": "markdown",
   "metadata": {
    "deletable": true,
    "editable": true
   },
   "source": [
    "## 用 ``%paste`` ``%cpaste`` 粘贴代码\n",
    "\n",
    "## Pasting Code Blocks: ``%paste`` and ``%cpaste``\n",
    "\n",
    "在 IPython 中粘贴代码经常会因为缩进或者解释器标记导致报错。例如下面这样一个例子，当你在一个网站找到一段代码想要把它粘贴到你的解释器的时候：\n",
    "\n",
    "When working in the IPython interpreter, one common gotcha is that pasting multi-line code blocks can lead to unexpected errors, especially when indentation and interpreter markers are involved.\n",
    "A common case is that you find some example code on a website and want to paste it into your interpreter.\n",
    "Consider the following simple function:\n",
    "\n",
    "``` python\n",
    ">>> def donothing(x):\n",
    "...     return x\n",
    "\n",
    "```\n",
    "\n",
    "代码的格式与它在 Python 解释器中的格式相同，如果将它直接复制粘贴到 IPython 中，您会收到一个错误：\n",
    "\n",
    "The code is formatted as it would appear in the Python interpreter, and if you copy and paste this directly into IPython you get an error:\n",
    "\n",
    "```ipython\n",
    "In [2]: >>> def donothing(x):\n",
    "   ...:     ...     return x\n",
    "   ...:     \n",
    "  File \"<ipython-input-20-5a66c8964687>\", line 2\n",
    "    ...     return x\n",
    "                 ^\n",
    "SyntaxError: invalid syntax\n",
    "```\n",
    "\n",
    "如果直接粘贴解释器被额外的提示符影响，但不要担心 -- IPython 的 ``%paste`` 魔法函数旨在处理这种含提示符的多行输入的情况：\n",
    "\n",
    "In the direct paste, the interpreter is confused by the additional prompt characters.\n",
    "But never fear–IPython's ``%paste`` magic function is designed to handle this exact type of multi-line, marked-up input:\n",
    "\n",
    "```ipython\n",
    "In [3]: %paste\n",
    ">>> def donothing(x):\n",
    "...     return x\n",
    "\n",
    "## -- End pasted text --\n",
    "```\n",
    "\n",
    "``%paste`` 命令会输入并直接执行这行命令，所以这个函数已经可以被调用了：\n",
    "\n",
    "The ``%paste`` command both enters and executes the code, so now the function is ready to be used:\n",
    "\n",
    "```ipython\n",
    "In [4]: donothing(10)\n",
    "Out[4]: 10\n",
    "```\n",
    "\n",
    "另一个目的类似的命令是 ``%cpaste`` 它会创建一个多行输入的区域让你可以粘贴代码并一起执行：\n",
    "\n",
    "A command with a similar intent is ``%cpaste``, which opens up an interactive multiline prompt in which you can paste one or more chunks of code to be executed in a batch:\n",
    "\n",
    "```ipython\n",
    "In [5]: %cpaste\n",
    "Pasting code; enter '--' alone on the line to stop or use Ctrl-D.\n",
    ":>>> def donothing(x):\n",
    ":...     return x\n",
    ":--\n",
    "```\n",
    "\n",
    "这些魔法命令提供的功能在标准的 IPython 解释器里面就很难做到了。\n",
    "\n",
    "These magic commands, like others we'll see, make available functionality that would be difficult or impossible in a standard Python interpreter."
   ]
  },
  {
   "cell_type": "markdown",
   "metadata": {
    "deletable": true,
    "editable": true
   },
   "source": [
    "## 用 ``%run`` 执行外部代码\n",
    "\n",
    "## Running External Code: ``%run``\n",
    "\n",
    "当你的代码越来越多，你可能希望自己可以一方面在 IPython 中做一些探索性的尝试又能把重用的代码保存在文件中。通过 ``%run`` 命令你就可以在 IPython 中直接运行一个文件了，免去了去另一个窗口单独执行它的麻烦。\n",
    "\n",
    "As you begin developing more extensive code, you will likely find yourself working in both IPython for interactive exploration, as well as a text editor to store code that you want to reuse.\n",
    "Rather than running this code in a new window, it can be convenient to run it within your IPython session.\n",
    "This can be done with the ``%run`` magic.\n",
    "\n",
    "\n",
    "比如你有一个 ``myscript.py`` 的文件：\n",
    "\n",
    "For example, imagine you've created a ``myscript.py`` file with the following contents:\n",
    "\n",
    "```python\n",
    "#-------------------------------------\n",
    "# file: myscript.py\n",
    "\n",
    "def square(x):\n",
    "    \"\"\"square a number\"\"\"\n",
    "    return x ** 2\n",
    "\n",
    "for N in range(1, 4):\n",
    "    print(N, \"squared is\", square(N))\n",
    "```\n",
    "\n",
    "你可以用下面的方法在 IPython 里面执行它：\n",
    "\n",
    "You can execute this from your IPython session as follows:\n",
    "\n",
    "```ipython\n",
    "In [6]: %run myscript.py\n",
    "1 squared is 1\n",
    "2 squared is 4\n",
    "3 squared is 9\n",
    "```\n",
    "\n",
    "在执行之后，文件中定义的函数就能在当前的回话里调用了：\n",
    "\n",
    "Note also that after you've run this script, any functions defined within it are available for use in your IPython session:\n",
    "\n",
    "```ipython\n",
    "In [7]: square(5)\n",
    "Out[7]: 25\n",
    "```\n",
    "\n",
    "``%run`` 命令还包含一些参数可以让你决定怎么执行你的文件，这些信息都在它的文档里，在 IPython 中键入 **``%run?``** 就能看到了。\n",
    "\n",
    "There are several options to fine-tune how your code is run; you can see the documentation in the normal way, by typing **``%run?``** in the IPython interpreter."
   ]
  },
  {
   "cell_type": "markdown",
   "metadata": {
    "deletable": true,
    "editable": true
   },
   "source": [
    "## 用 ``%timeit`` 对代码执行计时\n",
    "\n",
    "## Timing Code Execution: ``%timeit``\n",
    "\n",
    "另一个常用的魔法命令是 ``%timeit`` 它对 Python 语句计时。下面的例子可以看到一个 list comprehension 的执行速度如何：\n",
    "\n",
    "Another example of a useful magic function is ``%timeit``, which will automatically determine the execution time of the single-line Python statement that follows it.\n",
    "For example, we may want to check the performance of a list comprehension:\n",
    "\n",
    "```ipython\n",
    "In [8]: %timeit L = [n ** 2 for n in range(1000)]\n",
    "1000 loops, best of 3: 325 µs per loop\n",
    "```\n",
    "\n",
    "``%timeit`` 还有一个好处就是它可以自动对一个简单的语句多次执行来获取一个更稳定的运行时间。如果想要对多行语句计时，只需在其前面再添加一个 ``%`` 将其变为块魔法命令即可。例如下面是一个和上面语法等价的 ``for`` 循环版本：\n",
    "\n",
    "The benefit of ``%timeit`` is that for short commands it will automatically perform multiple runs in order to attain more robust results.\n",
    "For multi line statements, adding a second ``%`` sign will turn this into a cell magic that can handle multiple lines of input.\n",
    "For example, here's the equivalent construction with a ``for``-loop:\n",
    "\n",
    "```ipython\n",
    "In [9]: %%timeit\n",
    "   ...: L = []\n",
    "   ...: for n in range(1000):\n",
    "   ...:     L.append(n ** 2)\n",
    "   ...: \n",
    "1000 loops, best of 3: 373 µs per loop\n",
    "```\n",
    "\n",
    "可以看到在这里 list comprehensions 比 ``for`` 循环快了大约 10%。我们会在[性能调优与计时](01.07-Timing-and-Profiling.ipynb)对 ``%timeit`` 和其他调优方法做更多的介绍。\n",
    "\n",
    "We can immediately see that list comprehensions are about 10% faster than the equivalent ``for``-loop construction in this case.\n",
    "We'll explore ``%timeit`` and other approaches to timing and profiling code in [Profiling and Timing Code](01.07-Timing-and-Profiling.ipynb)."
   ]
  },
  {
   "cell_type": "markdown",
   "metadata": {
    "deletable": true,
    "editable": true
   },
   "source": [
    "## 魔法命令的帮助命令：``?``、``%magic`` 与 ``%lsmagic``\n",
    "\n",
    "## Help on Magic Functions: ``?``, ``%magic``, and ``%lsmagic``\n",
    "\n",
    "像普通的 Python 函数一样，IPython 魔法命令也有 docstrings，这个文档可以以标准方式访问。例如阅读 ``%timeit`` 的文档只需键入：\n",
    "\n",
    "\n",
    "\n",
    "Like normal Python functions, IPython magic functions have docstrings, and this useful\n",
    "documentation can be accessed in the standard manner.\n",
    "So, for example, to read the documentation of the ``%timeit`` magic simply type this:\n",
    "\n",
    "```ipython\n",
    "In [10]: %timeit?\n",
    "```\n",
    "\n",
    "用同样的方式也可以访问其他功能的文档。要访问所有魔法函数的一般说明（包括一些示例），您可以键入：\n",
    "\n",
    "Documentation for other functions can be accessed similarly.\n",
    "To access a general description of available magic functions, including some examples, you can type this:\n",
    "\n",
    "```ipython\n",
    "In [11]: %magic\n",
    "```\n",
    "\n",
    "想要罗列多有\n",
    "\n",
    "For a quick and simple list of all available magic functions, type this:\n",
    "\n",
    "```ipython\n",
    "In [12]: %lsmagic\n",
    "```\n",
    "\n",
    "Finally, I'll mention that it is quite straightforward to define your own magic functions if you wish.\n",
    "We won't discuss it here, but if you are interested, see the references listed in [More IPython Resources](01.08-More-IPython-Resources.ipynb)."
   ]
  },
  {
   "cell_type": "markdown",
   "metadata": {
    "deletable": true,
    "editable": true
   },
   "source": [
    "<!--NAVIGATION-->\n",
    "< [Keyboard Shortcuts in the IPython Shell](01.02-Shell-Keyboard-Shortcuts.ipynb) | [Contents](Index.ipynb) | [Input and Output History](01.04-Input-Output-History.ipynb) >"
   ]
  }
 ],
 "metadata": {
  "anaconda-cloud": {},
  "kernelspec": {
   "display_name": "Python 2",
   "language": "python",
   "name": "python2"
  },
  "language_info": {
   "codemirror_mode": {
    "name": "ipython",
    "version": 2
   },
   "file_extension": ".py",
   "mimetype": "text/x-python",
   "name": "python",
   "nbconvert_exporter": "python",
   "pygments_lexer": "ipython2",
   "version": "2.7.13"
  }
 },
 "nbformat": 4,
 "nbformat_minor": 0
}
