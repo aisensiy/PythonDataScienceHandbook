{
 "cells": [
  {
   "cell_type": "markdown",
   "metadata": {
    "deletable": true,
    "editable": true
   },
   "source": [
    "<!--BOOK_INFORMATION-->\n",
    "<img align=\"left\" style=\"padding-right:10px;\" src=\"figures/PDSH-cover-small.png\">\n",
    "*This notebook contains an excerpt from the [Python Data Science Handbook](http://shop.oreilly.com/product/0636920034919.do) by Jake VanderPlas; the content is available [on GitHub](https://github.com/jakevdp/PythonDataScienceHandbook).*\n",
    "\n",
    "*The text is released under the [CC-BY-NC-ND license](https://creativecommons.org/licenses/by-nc-nd/3.0/us/legalcode), and code is released under the [MIT license](https://opensource.org/licenses/MIT). If you find this content useful, please consider supporting the work by [buying the book](http://shop.oreilly.com/product/0636920034919.do)!*"
   ]
  },
  {
   "cell_type": "markdown",
   "metadata": {
    "deletable": true,
    "editable": true
   },
   "source": [
    "<!--NAVIGATION-->\n",
    "< [IPython Magic Commands](01.03-Magic-Commands.ipynb) | [Contents](Index.ipynb) | [IPython and Shell Commands](01.05-IPython-And-Shell-Commands.ipynb) >"
   ]
  },
  {
   "cell_type": "markdown",
   "metadata": {
    "deletable": true,
    "editable": true
   },
   "source": [
    "# 输入输出历史\n",
    "\n",
    "# Input and Output History\n",
    "\n",
    "在上一个章节我们了解到在 IPython 可以用上下箭头或者 Ctrl-p/Ctrl-n 找回之前使用的命令。在这一章节我们将看到 IPython shell 和 notebook 中还能能找回之前命令的输出以及之前所有命令的字符串内容。\n",
    "\n",
    "Previously we saw that the IPython shell allows you to access previous commands with the up and down arrow keys, or equivalently the Ctrl-p/Ctrl-n shortcuts.\n",
    "Additionally, in both the shell and the notebook, IPython exposes several ways to obtain the output of previous commands, as well as string versions of the commands themselves.\n",
    "We'll explore those here."
   ]
  },
  {
   "cell_type": "markdown",
   "metadata": {
    "deletable": true,
    "editable": true
   },
   "source": [
    "## IPython 中的 ``In`` 和 ``Out`` 对象\n",
    "\n",
    "## IPython's ``In`` and ``Out`` Objects\n",
    "\n",
    "你一定很熟悉 IPython 中出现的 ``In [1]:``/``Out[1]:`` 这样的提示符了。但是它们不仅仅是漂亮的装饰而已：它留下了一条线索帮你访问当前会话中的输入和输出内容。假设你启动一个如下所示的回话：\n",
    "\n",
    "By now I imagine you're quite familiar with the ``In [1]:``/``Out[1]:`` style prompts used by IPython.\n",
    "But it turns out that these are not just pretty decoration: they give a clue as to how you can access previous inputs and outputs in your current session.\n",
    "Imagine you start a session that looks like this:\n",
    "\n",
    "```ipython\n",
    "In [1]: import math\n",
    "\n",
    "In [2]: math.sin(2)\n",
    "Out[2]: 0.9092974268256817\n",
    "\n",
    "In [3]: math.cos(2)\n",
    "Out[3]: -0.4161468365471424\n",
    "```"
   ]
  },
  {
   "cell_type": "markdown",
   "metadata": {
    "deletable": true,
    "editable": true
   },
   "source": [
    "我们引入了内置的 math 包，然后计算 ``sin(2)`` 和 ``cos(2)``。每个输出和输出前都有 shell 的 ``In``/``Out`` 标记，但与此同时 IPython 创建的用于记录这些输入输出历史的变量：In 和 Out 也被自动更新了：\n",
    "\n",
    "We've imported the built-in ``math`` package, then computed the sine and the cosine of the number 2.\n",
    "These inputs and outputs are displayed in the shell with ``In``/``Out`` labels, but there's more–IPython actually creates some Python variables called ``In`` and ``Out`` that are automatically updated to reflect this history:\n",
    "\n",
    "```ipython\n",
    "In [4]: print(In)\n",
    "['', 'import math', 'math.sin(2)', 'math.cos(2)', 'print(In)']\n",
    "\n",
    "In [5]: Out\n",
    "Out[5]: {2: 0.9092974268256817, 3: -0.4161468365471424}\n",
    "```"
   ]
  },
  {
   "cell_type": "markdown",
   "metadata": {
    "deletable": true,
    "editable": true
   },
   "source": [
    "``In`` 是一个列表，它按照执行顺序记录了所有的命令（第一个命令是一个占位符，``In[1]`` 才是第一个用户命令）：\n",
    "\n",
    "The ``In`` object is a list, which keeps track of the commands in order (the first item in the list is a place-holder so that ``In[1]`` can refer to the first command):\n",
    "\n",
    "```ipython\n",
    "In [6]: print(In[1])\n",
    "import math\n",
    "```\n",
    "\n",
    "``Out`` 对象不是一个列表而是一个字典，它由命令索引和其运行结果（如果有结果）的键值对组成：\n",
    "\n",
    "The ``Out`` object is not a list but a dictionary mapping input numbers to their outputs (if any):\n",
    "\n",
    "```ipython\n",
    "In [7]: print(Out[2])\n",
    "0.9092974268256817\n",
    "```\n",
    "\n",
    "注意并不是所有命令都有执行结果：比如 ``import`` 和 ``print`` 都没有结果。不过你可能对 ``print`` 没有执行结果觉得一点意外，但实际上 ``print`` 就是一个返回为 ``None`` 的函数，而任何返回为 ``None`` 的结果都不会被添加到 ``Out`` 中。\n",
    "\n",
    "Note that not all operations have outputs: for example, ``import`` statements and ``print`` statements don't affect the output.\n",
    "The latter may be surprising, but makes sense if you consider that ``print`` is a function that returns ``None``; for brevity, any command that returns ``None`` is not added to ``Out``.\n",
    "\n",
    "``In`` ``Out`` 对象让你可以轻松的访问之前的运行结果。比如让我们用前面的结算结果来计算一下 ``sin(2) ** 2`` 和 ``cos(2) ** 2`` 的和：\n",
    "\n",
    "Where this can be useful is if you want to interact with past results.\n",
    "For example, let's check the sum of ``sin(2) ** 2`` and ``cos(2) ** 2`` using the previously-computed results:\n",
    "\n",
    "```ipython\n",
    "In [8]: Out[2] ** 2 + Out[3] ** 2\n",
    "Out[8]: 1.0\n",
    "```\n",
    "\n",
    "其结果和我们所熟知的三角函数公式一样，是 ``1.0``。当然在这里可能并不需要调用之前的历史，不过如果这个计算很复杂你想重用这个结果的时候就很有必要这么做了。\n",
    "\n",
    "The result is ``1.0`` as we'd expect from the well-known trigonometric identity.\n",
    "In this case, using these previous results probably is not necessary, but it can become very handy if you execute a very expensive computation and want to reuse the result!"
   ]
  },
  {
   "cell_type": "markdown",
   "metadata": {
    "deletable": true,
    "editable": true
   },
   "source": [
    "## 用下划线获取之前的输出\n",
    "\n",
    "## Underscore Shortcuts and Previous Outputs\n",
    "\n",
    "标准的 Python shell 包含一个快捷家 ``_``（就是一个下划线）用于获取上一个输出结果。它在 IPython 中也同样有效：\n",
    "\n",
    "The standard Python shell contains just one simple shortcut for accessing previous output; the variable ``_`` (i.e., a single underscore) is kept updated with the previous output; this works in IPython as well:\n",
    "\n",
    "```ipython\n",
    "In [9]: print(_)\n",
    "1.0\n",
    "```\n",
    "\n",
    "不过 IPython 更进一步，让你用双下划线去访问上上一个输出，以及三下划线返回倒数第三个输出（当然都会跳过那些没有输出的命令）：\n",
    "\n",
    "But IPython takes this a bit further—you can use a double underscore to access the second-to-last output, and a triple underscore to access the third-to-last output (skipping any commands with no output):\n",
    "\n",
    "```ipython\n",
    "In [10]: print(__)\n",
    "-0.4161468365471424\n",
    "\n",
    "In [11]: print(___)\n",
    "0.9092974268256817\n",
    "```\n",
    "\n",
    "IPython 没有继续这样下去了：更多的下划线就不够方便了，用索引访问之前的输出更方便一些。并且 IPython 中可以用 ``_X`` 作为 ``Out[X]`` 的快捷方式（就是用一个下划线替代 Out）：\n",
    "\n",
    "IPython stops there: more than three underscores starts to get a bit hard to count, and at that point it's easier to refer to the output by line number.\n",
    "\n",
    "There is one more shortcut we should mention, however–a shorthand for ``Out[X]`` is ``_X`` (i.e., a single underscore followed by the line number):\n",
    "\n",
    "```ipython\n",
    "In [12]: Out[2]\n",
    "Out[12]: 0.9092974268256817\n",
    "\n",
    "In [13]: _2\n",
    "Out[13]: 0.9092974268256817\n",
    "```"
   ]
  },
  {
   "cell_type": "markdown",
   "metadata": {
    "deletable": true,
    "editable": true
   },
   "source": [
    "## 抑制输出\n",
    "\n",
    "## Suppressing Output\n",
    "\n",
    "有时你可能希望不要保留语句的输出（尤其是[Matplotlib简介](04.00-Introduction-To-Matplotlib.ipynb)中的绘图命令）。或者你不希望把执行命令产生结果保存在输出历史中。阻止命令保存到输出对象的最简单的方法是在行尾添加一个分号：\n",
    "\n",
    "Sometimes you might wish to suppress the output of a statement (this is perhaps most common with the plotting commands that we'll explore in [Introduction to Matplotlib](04.00-Introduction-To-Matplotlib.ipynb)).\n",
    "Or maybe the command you're executing produces a result that you'd prefer not like to store in your output history, perhaps so that it can be deallocated when other references are removed.\n",
    "The easiest way to suppress the output of a command is to add a semicolon to the end of the line:\n",
    "\n",
    "```ipython\n",
    "In [14]: math.sin(2) + math.cos(2);\n",
    "```\n",
    "\n",
    "这样命令不会有任何输出，它也不会被保存到 ``Out`` 字典中：\n",
    "\n",
    "Note that the result is computed silently, and the output is neither displayed on the screen or stored in the ``Out`` dictionary:\n",
    "\n",
    "```ipython\n",
    "In [15]: 14 in Out\n",
    "Out[15]: False\n",
    "```"
   ]
  },
  {
   "cell_type": "markdown",
   "metadata": {
    "deletable": true,
    "editable": true
   },
   "source": [
    "## 相关的魔法命令\n",
    "\n",
    "## Related Magic Commands\n",
    "\n",
    "``%history`` 可以获取多个历史命令。下面是如何展示前四个命令的例子：\n",
    "\n",
    "For accessing a batch of previous inputs at once, the ``%history`` magic command is very helpful.\n",
    "Here is how you can print the first four inputs:\n",
    "\n",
    "```ipython\n",
    "In [16]: %history -n 1-4\n",
    "   1: import math\n",
    "   2: math.sin(2)\n",
    "   3: math.cos(2)\n",
    "   4: print(In)\n",
    "```\n",
    "\n",
    "你可以输入 ``%history?`` 来获取更多的信息。类似的命令还有 ``%rerun``（重新执行多个历史命令）以及 ``%save`` （把多个命令保存到文件中）。更多d\n",
    "\n",
    "As usual, you can type ``%history?`` for more information and a description of options available.\n",
    "Other similar magic commands are ``%rerun`` (which will re-execute some portion of the command history) and ``%save`` (which saves some set of the command history to a file).\n",
    "For more information, I suggest exploring these using the ``?`` help functionality discussed in [Help and Documentation in IPython](01.01-Help-And-Documentation.ipynb)."
   ]
  },
  {
   "cell_type": "markdown",
   "metadata": {
    "deletable": true,
    "editable": true
   },
   "source": [
    "<!--NAVIGATION-->\n",
    "< [IPython Magic Commands](01.03-Magic-Commands.ipynb) | [Contents](Index.ipynb) | [IPython and Shell Commands](01.05-IPython-And-Shell-Commands.ipynb) >"
   ]
  }
 ],
 "metadata": {
  "anaconda-cloud": {},
  "kernelspec": {
   "display_name": "Python 2",
   "language": "python",
   "name": "python2"
  },
  "language_info": {
   "codemirror_mode": {
    "name": "ipython",
    "version": 2
   },
   "file_extension": ".py",
   "mimetype": "text/x-python",
   "name": "python",
   "nbconvert_exporter": "python",
   "pygments_lexer": "ipython2",
   "version": "2.7.13"
  }
 },
 "nbformat": 4,
 "nbformat_minor": 0
}
