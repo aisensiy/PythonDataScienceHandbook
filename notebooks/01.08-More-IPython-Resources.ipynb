{
 "cells": [
  {
   "cell_type": "markdown",
   "metadata": {
    "deletable": true,
    "editable": true
   },
   "source": [
    "<!--BOOK_INFORMATION-->\n",
    "<img align=\"left\" style=\"padding-right:10px;\" src=\"figures/PDSH-cover-small.png\">\n",
    "*This notebook contains an excerpt from the [Python Data Science Handbook](http://shop.oreilly.com/product/0636920034919.do) by Jake VanderPlas; the content is available [on GitHub](https://github.com/jakevdp/PythonDataScienceHandbook).*\n",
    "\n",
    "*The text is released under the [CC-BY-NC-ND license](https://creativecommons.org/licenses/by-nc-nd/3.0/us/legalcode), and code is released under the [MIT license](https://opensource.org/licenses/MIT). If you find this content useful, please consider supporting the work by [buying the book](http://shop.oreilly.com/product/0636920034919.do)!*"
   ]
  },
  {
   "cell_type": "markdown",
   "metadata": {
    "deletable": true,
    "editable": true
   },
   "source": [
    "<!--NAVIGATION-->\n",
    "< [Profiling and Timing Code](01.07-Timing-and-Profiling.ipynb) | [Contents](Index.ipynb) | [Introduction to NumPy](02.00-Introduction-to-NumPy.ipynb) >"
   ]
  },
  {
   "cell_type": "markdown",
   "metadata": {
    "deletable": true,
    "editable": true
   },
   "source": [
    "# 更多 IPython 资源\n",
    "\n",
    "# More IPython Resources\n",
    "\n",
    "本章粗略的讨论了使用 IPython 来完成数据科学任务的基础部分。有更多的信息可以在纸质书记和网络上找到，在这里我们将列出一些资源，希望对你有所帮助。\n",
    "\n",
    "In this chapter, we've just scratched the surface of using IPython to enable data science tasks.\n",
    "Much more information is available both in print and on the Web, and here we'll list some other resources that you may find helpful."
   ]
  },
  {
   "cell_type": "markdown",
   "metadata": {
    "deletable": true,
    "editable": true
   },
   "source": [
    "## 网络资源\n",
    "\n",
    "## Web Resources\n",
    "\n",
    "- [IPython 官网](http://ipython.org)：其包含大量的文档、示例、教程以及其他资源\n",
    "- [nbviewer](http://nbviewer.jupyter.org/)：网站包含很多 IPython notebook，可以看看其他人都是怎么使用 IPython notebook 的\n",
    "- [IPython notebook 集锦](http://github.com/ipython/ipython/wiki/A-gallery-of-interesting-IPython-Notebooks/)：这里有一个不断增长的 IPython notebook 列表，由 nbviewer 提供，展示了使用 IPython 做数据分析的深度和广度。其内容涵盖简短的例子、详细的教程、甚至是完整的课程和书籍，所有一切都是 IPython notebook 格式的！\n",
    "- 视频教程：通过搜索你会发现许多 IPython 的视频教程。我特别推荐 IPython 和 Jupyter 的创建者和维护者 Fernando Perez 和 Brian Granger 在 PyCon，SciPy 和 PyData 会议中的演讲视频。\n",
    "\n",
    "\n",
    "- [The IPython website](http://ipython.org): The IPython website links to documentation, examples, tutorials, and a variety of other resources.\n",
    "- [The nbviewer website](http://nbviewer.jupyter.org/): This site shows static renderings of any IPython notebook available on the internet. The front page features some example notebooks that you can browse to see what other folks are using IPython for!\n",
    "- [A Gallery of Interesting IPython Notebooks](http://github.com/ipython/ipython/wiki/A-gallery-of-interesting-IPython-Notebooks/): This ever-growing list of notebooks, powered by nbviewer, shows the depth and breadth of numerical analysis you can do with IPython. It includes everything from short examples and tutorials to full-blown courses and books composed in the notebook format!\n",
    "- Video Tutorials: searching the Internet, you will find many video-recorded tutorials on IPython. I'd especially recommend seeking tutorials from the PyCon, SciPy, and PyData conferenes by Fernando Perez and Brian Granger, two of the primary creators and maintainers of IPython and Jupyter."
   ]
  },
  {
   "cell_type": "markdown",
   "metadata": {
    "deletable": true,
    "editable": true
   },
   "source": [
    "## 书籍\n",
    "\n",
    "## Books\n",
    "\n",
    "- [*用 Python 做数据分析*](http://shop.oreilly.com/product/0636920023784.do): Wes McKinney 的书籍，其中一个章节讲述了如何像数据科学家那样使用 IPython。虽然书中的很多内容与本书重叠了，但是从其他的视角看待同一个问题总是会有所帮助的。\n",
    "- [*用 IPython 进行交互式计算与可视化*](https://www.packtpub.com/big-data-and-business-intelligence/learning-ipython-interactive-computing-and-data-visualization)：一本由 Cyrille Rossant 所著的小书对入门 IPython 进行数据分析很有帮助。\n",
    "- [*IPython 交互式计算和可视化手册*](https://www.packtpub.com/big-data-and-business-intelligence/ipython-interactive-computing-and-visualization-cookbook)：同样出自 Cyrille Rossant，更深入的讲述了 IPython 用于数据分析的内容，虽然名字是 IPython 但实际上其内容涵盖了很多有关数据科学的领域。\n",
    "\n",
    "\n",
    "- [*Python for Data Analysis*](http://shop.oreilly.com/product/0636920023784.do): Wes McKinney's book includes a chapter that covers using IPython as a data scientist. Although much of the material overlaps what we've discussed here, another perspective is always helpful.\n",
    "- [*Learning IPython for Interactive Computing and Data Visualization*](https://www.packtpub.com/big-data-and-business-intelligence/learning-ipython-interactive-computing-and-data-visualization): This short book by Cyrille Rossant offers a good introduction to using IPython for data analysis.\n",
    "- [*IPython Interactive Computing and Visualization Cookbook*](https://www.packtpub.com/big-data-and-business-intelligence/ipython-interactive-computing-and-visualization-cookbook): Also by Cyrille Rossant, this book is a longer and more advanced treatment of using IPython for data science. Despite its name, it's not just about IPython–it also goes into some depth on a broad range of data science topics.\n",
    "\n",
    "最后，提醒你可以用 ``?`` 在 IPython 找到帮助文档（在[IPython的帮助和文档](01.01-Help-And-Documentation.ipynb)中讨论）慢慢的你会发现它非常实用。然后多多尝试各种书中的类似可以帮你更快的熟悉 IPython 的这些工具。\n",
    "\n",
    "Finally, a reminder that you can find help on your own: IPython's ``?``-based help functionality (discussed in [Help and Documentation in IPython](01.01-Help-And-Documentation.ipynb)) can be very useful if you use it well and use it often.\n",
    "As you go through the examples here and elsewhere, this can be used to familiarize yourself with all the tools that IPython has to offer."
   ]
  },
  {
   "cell_type": "markdown",
   "metadata": {
    "deletable": true,
    "editable": true
   },
   "source": [
    "<!--NAVIGATION-->\n",
    "< [Profiling and Timing Code](01.07-Timing-and-Profiling.ipynb) | [Contents](Index.ipynb) | [Introduction to NumPy](02.00-Introduction-to-NumPy.ipynb) >"
   ]
  }
 ],
 "metadata": {
  "anaconda-cloud": {},
  "kernelspec": {
   "display_name": "Python 2",
   "language": "python",
   "name": "python2"
  },
  "language_info": {
   "codemirror_mode": {
    "name": "ipython",
    "version": 2
   },
   "file_extension": ".py",
   "mimetype": "text/x-python",
   "name": "python",
   "nbconvert_exporter": "python",
   "pygments_lexer": "ipython2",
   "version": "2.7.13"
  }
 },
 "nbformat": 4,
 "nbformat_minor": 0
}
