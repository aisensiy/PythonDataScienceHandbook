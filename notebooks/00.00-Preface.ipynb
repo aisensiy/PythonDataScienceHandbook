{
 "cells": [
  {
   "cell_type": "markdown",
   "metadata": {
    "deletable": true,
    "editable": true
   },
   "source": [
    "<!--BOOK_INFORMATION-->\n",
    "<img align=\"left\" style=\"padding-right:10px;\" src=\"figures/PDSH-cover-small.png\">\n",
    "*This notebook contains an excerpt from the [Python Data Science Handbook](http://shop.oreilly.com/product/0636920034919.do) by Jake VanderPlas; the content is available [on GitHub](https://github.com/jakevdp/PythonDataScienceHandbook).*\n",
    "\n",
    "*The text is released under the [CC-BY-NC-ND license](https://creativecommons.org/licenses/by-nc-nd/3.0/us/legalcode), and code is released under the [MIT license](https://opensource.org/licenses/MIT). If you find this content useful, please consider supporting the work by [buying the book](http://shop.oreilly.com/product/0636920034919.do)!*"
   ]
  },
  {
   "cell_type": "markdown",
   "metadata": {
    "deletable": true,
    "editable": true
   },
   "source": [
    "<!--NAVIGATION-->\n",
    "| [Contents](Index.ipynb) | [IPython: Beyond Normal Python](01.00-IPython-Beyond-Normal-Python.ipynb) >"
   ]
  },
  {
   "cell_type": "markdown",
   "metadata": {
    "deletable": true,
    "editable": true
   },
   "source": [
    "# 序言\n",
    "\n",
    "# Preface"
   ]
  },
  {
   "cell_type": "markdown",
   "metadata": {
    "deletable": true,
    "editable": true
   },
   "source": [
    "## 什么是数据科学？\n",
    "\n",
    "## What Is Data Science?\n",
    "\n",
    "这是一本介绍用 Python 开展数据科学研究的书，那么这里就有一个问题：到底什么是*数据科学*呢？目前来看数据科学的概念非常的宽泛，想要给它一个明确的定义还是比较困难的。批评家们称这是一个虚伪的标签，毕竟什么科学不涉及数据呢，或者它仅仅是一个流行语存在于大家的简历中，只是为了夺得招聘者的更多青睐。\n",
    "\n",
    "This is a book about doing data science with Python, which immediately begs the question: what is *data science*?\n",
    "It's a surprisingly hard definition to nail down, especially given how ubiquitous the term has become.\n",
    "Vocal critics have variously dismissed the term as a superfluous label (after all, what science doesn't involve data?) or a simple buzzword that only exists to salt resumes and catch the eye of overzealous tech recruiters.\n",
    "\n",
    "在我看来，批评者们忽略一些重要的内容。撇开对于数据科学的那些炒作，它是一个非常重要的跨学科技能。并且其重要性在工业界与学术界的很多领域都显得越发的明显。其跨学科性在这里是重点：我认为到目前为止对数据科学最好的定义来自 Drew Conway 的数据科学界定图，他在 2010 年 9 月发表在自己的博客上。\n",
    "\n",
    "In my mind, these critiques miss something important.\n",
    "Data science, despite its hype-laden veneer, is perhaps the best label we have for the cross-disciplinary set of skills that are becoming increasingly important in many applications across industry and academia.\n",
    "This cross-disciplinary piece is key: in my mind, the best extisting definition of data science is illustrated by Drew Conway's Data Science Venn Diagram, first published on his blog in September 2010:"
   ]
  },
  {
   "cell_type": "markdown",
   "metadata": {
    "deletable": true,
    "editable": true
   },
   "source": [
    "![Data Science Venn Diagram](figures/Data_Science_VD.png)\n",
    "\n",
    "<small>(Source: [Drew Conway](http://drewconway.com/zia/2013/3/26/the-data-science-venn-diagram). Used by permission.)</small>"
   ]
  },
  {
   "cell_type": "markdown",
   "metadata": {
    "deletable": true,
    "editable": true
   },
   "source": [
    "虽然某些交叉区域的标签有一点刺眼，不过我觉得这个图很好的解释了大家口中的*数据科学*：它是一个*交叉学科*。数据科学涉及三块内容：*统计学*，涵盖如何对数据进行建模；*计算机科学*，如何用算法高效的存储、处理以及可视化数据，以及*领域知识*（就是某个主题内精典培训想要我们学到的知识），如何在一个领域中提出问题和解决问题。\n",
    "\n",
    "While some of the intersection labels are a bit tongue-in-cheek, this diagram captures the essence of what I think people mean when they say \"data science\": it is fundamentally an *interdisciplinary* subject.\n",
    "Data science comprises three distinct and overlapping areas: the skills of a *statistician* who knows how to model and summarize datasets (which are growing ever larger); the skills of a *computer scientist* who can design and use algorithms to efficiently store, process, and visualize this data; and the *domain expertise*—what we might think of as \"classical\" training in a subject—necessary both to formulate the right questions and to put their answers in context.\n",
    "\n",
    "这么看来，数据科学不是什么崭新的知识领域，而是一套在自己的领域都能实施的新技能。无论你是要报告选举结果，预测股票回报，优化在线广告，识别显微镜照片中的微生物，寻找新的天文物体，还是处理任何其他领域的数据，本书的目标是让你能够询问并回答关于你选择的领域的新问题。\n",
    "\n",
    "With this in mind, I would encourage you to think of data science not as a new domain of knowledge to learn, but a new set of skills that you can apply within your current area of expertise.\n",
    "Whether you are reporting election results, forecasting stock returns, optimizing online ad clicks, identifying microorganisms in microscope photos, seeking new classes of astronomical objects, or working with data in any other field, the goal of this book is to give you the ability to ask and answer new questions about your chosen subject area."
   ]
  },
  {
   "cell_type": "markdown",
   "metadata": {
    "deletable": true,
    "editable": true
   },
   "source": [
    "## 本书的读者\n",
    "\n",
    "## Who Is This Book For?\n",
    "\n",
    "在我在华盛顿大学和各种技术会议和聚会上的教学过程中，我听到的最常见的问题之一是：“我应该如何学习Python？“问这个问题的一般是有技术背景的学生、开发人员或研究人员，它们通常写过代码并用过各种专业工具。他们大多数人不想学习 Python 本身，而是想将其用作数据密集型计算科学的工具。虽然从大量在线的视频、博客和教程也可以获得相关的内容，但我始终没有找到对该问题的一个很全面的答案; 这是我写这本书的原因。\n",
    "\n",
    "In my teaching both at the University of Washington and at various tech-focused conferences and meetups, one of the most common questions I have heard is this: \"how should I learn Python?\"\n",
    "The people asking are generally technically minded students, developers, or researchers, often with an already strong background in writing code and using computational and numerical tools.\n",
    "Most of these folks don't want to learn Python *per se*, but want to learn the language with the aim of using it as a tool for data-intensive and computational science.\n",
    "While a large patchwork of videos, blog posts, and tutorials for this audience is available online, I've long been frustrated by the lack of a single good answer to this question; that is what inspired this book.\n",
    "\n",
    "这本书不是教大家学 Python 或者是学编程。我假定读者已经熟悉了 Python 语言，知道如何定义函数，声明变量，调用对象的方法以及一些基本的程序流程控制。本书是为了教读者如何使用 Python 的数据科学工具箱：比如 IPython、NumPy、Pandas、Matplotlib、Scikit-Learn 以及其他相关的工具。\n",
    "\n",
    "The book is not meant to be an introduction to Python or to programming in general; I assume the reader has familiarity with the Python language, including defining functions, assigning variables, calling methods of objects, controlling the flow of a program, and other basic tasks.\n",
    "Instead it is meant to help Python users learn to use Python's data science stack–libraries such as IPython, NumPy, Pandas, Matplotlib, Scikit-Learn, and related tools–to effectively store, manipulate, and gain insight from data."
   ]
  },
  {
   "cell_type": "markdown",
   "metadata": {
    "deletable": true,
    "editable": true
   },
   "source": [
    "## 为什么是 Python?\n",
    "\n",
    "## Why Python?\n",
    "\n",
    "Python 在过去几十年中已经成为完成科学计算任务的一流工具，包括大型数据集的分析和可视化。这可能是对 Python 语言的早期支持者的一个惊喜：语言本身没有专门设计用于数据分析或科学计算。Python 在数据科学的优势源于其庞大而活跃的第三方库，比如：*NumPy* 用于操作数组类型的数据，*Pandas* 用于处理表格型的数据，*SciPy* 用于完成通用的科学计算任务，*Matplotlib* 用于创建高品质可视化结果，*IPython* 用于交互式计算，*Scikit-Learn* 用于机器学习，当然还有其他的第三方库会被逐渐提及。\n",
    "\n",
    "Python has emerged over the last couple decades as a first-class tool for scientific computing tasks, including the analysis and visualization of large datasets.\n",
    "This may have come as a surprise to early proponents of the Python language: the language itself was not specifically designed with data analysis or scientific computing in mind.\n",
    "The usefulness of Python for data science stems primarily from the large and active ecosystem of third-party packages: *NumPy* for manipulation of homogeneous array-based data, *Pandas* for manipulation of heterogeneous and labeled data, *SciPy* for common scientific computing tasks, *Matplotlib* for publication-quality visualizations, *IPython* for interactive execution and sharing of code, *Scikit-Learn* for machine learning, and many more tools that will be mentioned in the following pages.\n",
    "\n",
    "如果你需要 Python 的入门知识，我建议看一下这本书的姊妹篇 [A Whirlwind Tour of the Python Language](https://github.com/jakevdp/WhirlwindTourOfPython)。该书意在帮助那些已经有编程基础的人快速了解 Python 的一些特性。\n",
    "\n",
    "If you are looking for a guide to the Python language itself, I would suggest the sister project to this book, \"[A Whirlwind Tour of the Python Language](https://github.com/jakevdp/WhirlwindTourOfPython)\".\n",
    "This short report provides a tour of the essential features of the Python language, aimed at data scientists who already are familiar with one or more other programming languages."
   ]
  },
  {
   "cell_type": "markdown",
   "metadata": {
    "deletable": true,
    "editable": true
   },
   "source": [
    "### Python 2 还是 Python 3\n",
    "\n",
    "### Python 2 vs Python 3\n",
    "\n",
    "本书使用 Python 3 的语法，其中包含与 Python 2 不兼容的内容。虽然 Python 3.0 在 2008 年就发布了，但是普及速度很慢，特别是在科学和 Web 开发社区。这主要是因为许多必要的第三方软件包和工具包需要一些时间才能与新的语言兼容。然而，自 2014 年初以来，数据科学体系中最重要的工具都能与Python 2 和 3 完全兼容，因此本书将使用更新的 Python 3 语法。然而，本书中绝大多数代码片段在 Python 2 中也可以运行：在使用与 Python 2 不兼容的语法时，我将明确地注释它。\n",
    "\n",
    "This book uses the syntax of Python 3, which contains language enhancements that are not compatible with the 2.x series of Python.\n",
    "Though Python 3.0 was first released in 2008, adoption has been relatively slow, particularly in the scientific and web development communities.\n",
    "This is primarily because it took some time for many of the essential third-party packages and toolkits to be made compatible with the new language internals.\n",
    "Since early 2014, however, stable releases of the most important tools in the data science ecosystem have been fully compatible with both Python 2 and 3, and so this book will use the newer Python 3 syntax.\n",
    "However, the vast majority of code snippets in this book will also work without modification in Python 2: in cases where a Py2-incompatible syntax is used, I will make every effort to note it explicitly."
   ]
  },
  {
   "cell_type": "markdown",
   "metadata": {
    "deletable": true,
    "editable": true
   },
   "source": [
    "## 本书的大纲\n",
    "\n",
    "## Outline of the Book\n",
    "\n",
    "本书的每一个章节将会专注于一个特定的工具。\n",
    "\n",
    "Each chapter of this book focuses on a particular package or tool that contributes a fundamental piece of the Python Data Sciece story.\n",
    "\n",
    "1. IPython 与 Jupyter：提供执行 Python 的交互环境\n",
    "2. NumPy：提供高效存储与计算的 ``ndarray`` \n",
    "3. Pandas：提供了 ``DataFrame`` 可基于行列式数据的高效存储与计算\n",
    "4. Matplotlib：提供给了灵活的数据可视化功能\n",
    "5. Scikit-Learn：提供了多种机器学习算法的 Python 版本\n",
    "\n",
    "1. IPython and Jupyter: these packages provide the computational environment in which many Python-using data scientists work.\n",
    "2. NumPy: this library provides the ``ndarray`` for efficient storage and manipulation of dense data arrays in Python.\n",
    "3. Pandas: this library provides the ``DataFrame`` for efficient storage and manipulation of labeled/columnar data in Python.\n",
    "4. Matplotlib: this library provides capabilities for a flexible range of data visualizations in Python.\n",
    "5. Scikit-Learn: this library provides efficient & clean Python implementations of the most important and established machine learning algorithms.\n",
    "\n",
    "PyData 世界当然比这五个软件包大得多并且每天都在增长。考虑到这一点，我尽量在书中介绍更多那些进一步推动 Python 发展的其他类库。然而这五个目前是 Python 中实施数据科学工作的基础，我认为它们在 Python 数据科学体系不断发展的将来它们仍然非常重要。\n",
    "\n",
    "The PyData world is certainly much larger than these five packages, and is growing every day.\n",
    "With this in mind, I make every attempt through these pages to provide references to other interesting efforts, projects, and packages that are pushing the boundaries of what can be done in Python.\n",
    "Nevertheless, these five are currently fundamental to much of the work being done in the Python data science space, and I expect they will remain important even as the ecosystem continues growing around them."
   ]
  },
  {
   "cell_type": "markdown",
   "metadata": {
    "deletable": true,
    "editable": true
   },
   "source": [
    "## 代码样例\n",
    "\n",
    "## Using Code Examples\n",
    "\n",
    "补充材料（代码示例，示图等）可在这里下载 http://github.com/jakevdp/PythonDataScienceHandbook/。 这本书是为了帮助你完成你的工作，一般来说，书中示例代码可以被直接用在你的程序和文档中，不需要与我们联系获得许可，除非你要复制大部分代码。例如，编写使用本书中几个代码段的程序不需要权限，但是出售或分发 O'Reilly 图书中的示例的 CD 则需要获得许可。通过引用此书并引用示例代码来回答问题不需要许可，而将本书的大量示例代码合并到你的产品文档中需要获得许可。\n",
    "\n",
    "Supplemental material (code examples, figures, etc.) is available for download at http://github.com/jakevdp/PythonDataScienceHandbook/. This book is here to help you get your job done. In general, if example code is offered with this book, you may use it in your programs and documentation. You do not need to contact us for permission unless you’re reproducing a significant portion of the code. For example, writing a program that uses several chunks of code from this book does not require permission. Selling or distributing a CD-ROM of examples from O’Reilly books does require permission. Answering a question by citing this book and quoting example code does not require permission. Incorporating a significant amount of example code from this book into your product’s documentation does require permission.\n",
    "\n",
    "如果在使用时提供对本书的引用信息，我们在这里对你表示感谢，对本书的引用主要包含标题、作者、出版商以及 ISBN 这样的信息：\n",
    "\n",
    "We appreciate, but do not require, attribution. An attribution usually includes the title, author, publisher, and ISBN. For example:\n",
    "\n",
    "> *The Python Data Science Handbook* by Jake VanderPlas (O’Reilly). Copyright 2016 Jake VanderPlas, 978-1-491-91205-8.\n",
    "\n",
    "如果你认为对书中代码的使用超过了以上的授权范围，请通过 permissions@oreilly.com 与我们联系。\n",
    "\n",
    "If you feel your use of code examples falls outside fair use or the per‐ mission given above, feel free to contact us at permissions@oreilly.com."
   ]
  },
  {
   "cell_type": "markdown",
   "metadata": {
    "deletable": true,
    "editable": true
   },
   "source": [
    "## 安装注意事项\n",
    "\n",
    "## Installation Considerations\n",
    "\n",
    "安装 Python 和科学计算的库是非常简单的。不过这里还是要讲一些配置你的环境的一些注意事项。\n",
    "\n",
    "Installing Python and the suite of libraries that enable scientific computing is straightforward . This section will outline some of the considerations when setting up your computer.\n",
    "\n",
    "有很多方式可以安装 Python 但是我推荐使用 Anaconda 来安装，不论是在 Windows、Linux 还是 Mac OS X 其使用都非常类似。使用 Anaconda 有以下两种方式：\n",
    "\n",
    "- [Miniconda](http://conda.pydata.org/miniconda.html) 提供了 Python 解释器及一个命令行工具 conda。该工具作为面向 Python 包的跨平台包管理器，类似于 Linux 用户熟悉的 apt 或 yum 。\n",
    "\n",
    "- [Anaconda](https://www.continuum.io/downloads) 包括 Python 和 conda，另外还捆绑了一套面向科学计算的预安装包。它可能会占用几 GB 的磁盘空间。\n",
    "\n",
    "Though there are various ways to install Python, the one I would suggest for use in data science is the Anaconda distribution, which works similarly whether you use Windows, Linux, or Mac OS X.\n",
    "The Anaconda distribution comes in two flavors:\n",
    "\n",
    "- [Miniconda](http://conda.pydata.org/miniconda.html) gives you the Python interpreter itself, along with a command-line tool called ``conda`` which operates as a cross-platform package manager geared toward Python packages, similar in spirit to the apt or yum tools that Linux users might be familiar with.\n",
    "\n",
    "- [Anaconda](https://www.continuum.io/downloads) includes both Python and conda, and additionally bundles a suite of other pre-installed packages geared toward scientific computing. Because of the size of this bundle, expect the installation to consume several gigabytes of disk space.\n",
    "\n",
    "Anaconda 提供的安装包都可以通过 Mniconda 安装，所以我建议可以先使用 Mninconda。安装 Mninconda 时主要要安装 Python 3 的版本，然后安装本书所需要的类库：\n",
    "\n",
    "Any of the packages included with Anaconda can also be installed manually on top of Miniconda; for this reason I suggest starting with Miniconda.\n",
    "\n",
    "To get started, download and install the Miniconda package–make sure to choose a version with Python 3–and then install the core packages used in this book:\n",
    "\n",
    "```\n",
    "[~]$ conda install numpy pandas scikit-learn matplotlib seaborn ipython-notebook\n",
    "```\n",
    "\n",
    "本书还将使用 Python 数据科学体系中其他更专业的工具; 安装通常就像这样： **``conda install packagename``**。有关 conda 的更多信息，包括有关创建和使用 conda 环境的信息（我强烈推荐），请参考[conda的在线文档](http://conda.pydata.org/docs/)。\n",
    "\n",
    "Throughout the text, we will also make use of other more specialized tools in Python's scientific ecosystem; installation is usually as easy as typing **``conda install packagename``**.\n",
    "For more information on conda, including information about creating and using conda environments (which I would *highly* recommend), refer to [conda's online documentation](http://conda.pydata.org/docs/)."
   ]
  },
  {
   "cell_type": "markdown",
   "metadata": {
    "deletable": true,
    "editable": true
   },
   "source": [
    "<!--NAVIGATION-->\n",
    "| [Contents](Index.ipynb) | [IPython: Beyond Normal Python](01.00-IPython-Beyond-Normal-Python.ipynb) >"
   ]
  }
 ],
 "metadata": {
  "anaconda-cloud": {},
  "kernelspec": {
   "display_name": "Python 2",
   "language": "python",
   "name": "python2"
  },
  "language_info": {
   "codemirror_mode": {
    "name": "ipython",
    "version": 2
   },
   "file_extension": ".py",
   "mimetype": "text/x-python",
   "name": "python",
   "nbconvert_exporter": "python",
   "pygments_lexer": "ipython2",
   "version": "2.7.13"
  }
 },
 "nbformat": 4,
 "nbformat_minor": 0
}
